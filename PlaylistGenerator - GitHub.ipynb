{
 "cells": [
  {
   "cell_type": "code",
   "execution_count": 6,
   "metadata": {},
   "outputs": [
    {
     "ename": "SpotifyOauthError",
     "evalue": "error: invalid_client, error_description: Invalid client",
     "output_type": "error",
     "traceback": [
      "\u001b[1;31m---------------------------------------------------------------------------\u001b[0m",
      "\u001b[1;31mHTTPError\u001b[0m                                 Traceback (most recent call last)",
      "File \u001b[1;32mc:\\Users\\gabri\\AppData\\Local\\Programs\\Python\\Python311\\Lib\\site-packages\\spotipy\\oauth2.py:588\u001b[0m, in \u001b[0;36mSpotifyOAuth.refresh_access_token\u001b[1;34m(self, refresh_token)\u001b[0m\n\u001b[0;32m    581\u001b[0m response \u001b[39m=\u001b[39m \u001b[39mself\u001b[39m\u001b[39m.\u001b[39m_session\u001b[39m.\u001b[39mpost(\n\u001b[0;32m    582\u001b[0m     \u001b[39mself\u001b[39m\u001b[39m.\u001b[39mOAUTH_TOKEN_URL,\n\u001b[0;32m    583\u001b[0m     data\u001b[39m=\u001b[39mpayload,\n\u001b[1;32m   (...)\u001b[0m\n\u001b[0;32m    586\u001b[0m     timeout\u001b[39m=\u001b[39m\u001b[39mself\u001b[39m\u001b[39m.\u001b[39mrequests_timeout,\n\u001b[0;32m    587\u001b[0m )\n\u001b[1;32m--> 588\u001b[0m response\u001b[39m.\u001b[39;49mraise_for_status()\n\u001b[0;32m    589\u001b[0m token_info \u001b[39m=\u001b[39m response\u001b[39m.\u001b[39mjson()\n",
      "File \u001b[1;32mc:\\Users\\gabri\\AppData\\Local\\Programs\\Python\\Python311\\Lib\\site-packages\\requests\\models.py:1021\u001b[0m, in \u001b[0;36mResponse.raise_for_status\u001b[1;34m(self)\u001b[0m\n\u001b[0;32m   1020\u001b[0m \u001b[39mif\u001b[39;00m http_error_msg:\n\u001b[1;32m-> 1021\u001b[0m     \u001b[39mraise\u001b[39;00m HTTPError(http_error_msg, response\u001b[39m=\u001b[39m\u001b[39mself\u001b[39m)\n",
      "\u001b[1;31mHTTPError\u001b[0m: 400 Client Error: Bad Request for url: https://accounts.spotify.com/api/token",
      "\nDuring handling of the above exception, another exception occurred:\n",
      "\u001b[1;31mSpotifyOauthError\u001b[0m                         Traceback (most recent call last)",
      "Cell \u001b[1;32mIn[6], line 34\u001b[0m\n\u001b[0;32m     29\u001b[0m         song_list\u001b[39m.\u001b[39mappend(song_title)\n\u001b[0;32m     31\u001b[0m \u001b[39m# Third stage: Spotify integration\u001b[39;00m\n\u001b[0;32m     32\u001b[0m \n\u001b[0;32m     33\u001b[0m \u001b[39m# Check if playlist already exists\u001b[39;00m\n\u001b[1;32m---> 34\u001b[0m existing_playlists \u001b[39m=\u001b[39m sp\u001b[39m.\u001b[39;49mcurrent_user_playlists()\n\u001b[0;32m     35\u001b[0m playlist_exists \u001b[39m=\u001b[39m \u001b[39mFalse\u001b[39;00m\n\u001b[0;32m     36\u001b[0m playlist_id \u001b[39m=\u001b[39m \u001b[39mNone\u001b[39;00m\n",
      "File \u001b[1;32mc:\\Users\\gabri\\AppData\\Local\\Programs\\Python\\Python311\\Lib\\site-packages\\spotipy\\client.py:635\u001b[0m, in \u001b[0;36mSpotify.current_user_playlists\u001b[1;34m(self, limit, offset)\u001b[0m\n\u001b[0;32m    629\u001b[0m \u001b[39mdef\u001b[39;00m \u001b[39mcurrent_user_playlists\u001b[39m(\u001b[39mself\u001b[39m, limit\u001b[39m=\u001b[39m\u001b[39m50\u001b[39m, offset\u001b[39m=\u001b[39m\u001b[39m0\u001b[39m):\n\u001b[0;32m    630\u001b[0m \u001b[39m    \u001b[39m\u001b[39m\"\"\" Get current user playlists without required getting his profile\u001b[39;00m\n\u001b[0;32m    631\u001b[0m \u001b[39m        Parameters:\u001b[39;00m\n\u001b[0;32m    632\u001b[0m \u001b[39m            - limit  - the number of items to return\u001b[39;00m\n\u001b[0;32m    633\u001b[0m \u001b[39m            - offset - the index of the first item to return\u001b[39;00m\n\u001b[0;32m    634\u001b[0m \u001b[39m    \"\"\"\u001b[39;00m\n\u001b[1;32m--> 635\u001b[0m     \u001b[39mreturn\u001b[39;00m \u001b[39mself\u001b[39;49m\u001b[39m.\u001b[39;49m_get(\u001b[39m\"\u001b[39;49m\u001b[39mme/playlists\u001b[39;49m\u001b[39m\"\u001b[39;49m, limit\u001b[39m=\u001b[39;49mlimit, offset\u001b[39m=\u001b[39;49moffset)\n",
      "File \u001b[1;32mc:\\Users\\gabri\\AppData\\Local\\Programs\\Python\\Python311\\Lib\\site-packages\\spotipy\\client.py:321\u001b[0m, in \u001b[0;36mSpotify._get\u001b[1;34m(self, url, args, payload, **kwargs)\u001b[0m\n\u001b[0;32m    318\u001b[0m \u001b[39mif\u001b[39;00m args:\n\u001b[0;32m    319\u001b[0m     kwargs\u001b[39m.\u001b[39mupdate(args)\n\u001b[1;32m--> 321\u001b[0m \u001b[39mreturn\u001b[39;00m \u001b[39mself\u001b[39;49m\u001b[39m.\u001b[39;49m_internal_call(\u001b[39m\"\u001b[39;49m\u001b[39mGET\u001b[39;49m\u001b[39m\"\u001b[39;49m, url, payload, kwargs)\n",
      "File \u001b[1;32mc:\\Users\\gabri\\AppData\\Local\\Programs\\Python\\Python311\\Lib\\site-packages\\spotipy\\client.py:245\u001b[0m, in \u001b[0;36mSpotify._internal_call\u001b[1;34m(self, method, url, payload, params)\u001b[0m\n\u001b[0;32m    243\u001b[0m \u001b[39mif\u001b[39;00m \u001b[39mnot\u001b[39;00m url\u001b[39m.\u001b[39mstartswith(\u001b[39m\"\u001b[39m\u001b[39mhttp\u001b[39m\u001b[39m\"\u001b[39m):\n\u001b[0;32m    244\u001b[0m     url \u001b[39m=\u001b[39m \u001b[39mself\u001b[39m\u001b[39m.\u001b[39mprefix \u001b[39m+\u001b[39m url\n\u001b[1;32m--> 245\u001b[0m headers \u001b[39m=\u001b[39m \u001b[39mself\u001b[39;49m\u001b[39m.\u001b[39;49m_auth_headers()\n\u001b[0;32m    247\u001b[0m \u001b[39mif\u001b[39;00m \u001b[39m\"\u001b[39m\u001b[39mcontent_type\u001b[39m\u001b[39m\"\u001b[39m \u001b[39min\u001b[39;00m args[\u001b[39m\"\u001b[39m\u001b[39mparams\u001b[39m\u001b[39m\"\u001b[39m]:\n\u001b[0;32m    248\u001b[0m     headers[\u001b[39m\"\u001b[39m\u001b[39mContent-Type\u001b[39m\u001b[39m\"\u001b[39m] \u001b[39m=\u001b[39m args[\u001b[39m\"\u001b[39m\u001b[39mparams\u001b[39m\u001b[39m\"\u001b[39m][\u001b[39m\"\u001b[39m\u001b[39mcontent_type\u001b[39m\u001b[39m\"\u001b[39m]\n",
      "File \u001b[1;32mc:\\Users\\gabri\\AppData\\Local\\Programs\\Python\\Python311\\Lib\\site-packages\\spotipy\\client.py:236\u001b[0m, in \u001b[0;36mSpotify._auth_headers\u001b[1;34m(self)\u001b[0m\n\u001b[0;32m    234\u001b[0m     \u001b[39mreturn\u001b[39;00m {}\n\u001b[0;32m    235\u001b[0m \u001b[39mtry\u001b[39;00m:\n\u001b[1;32m--> 236\u001b[0m     token \u001b[39m=\u001b[39m \u001b[39mself\u001b[39;49m\u001b[39m.\u001b[39;49mauth_manager\u001b[39m.\u001b[39;49mget_access_token(as_dict\u001b[39m=\u001b[39;49m\u001b[39mFalse\u001b[39;49;00m)\n\u001b[0;32m    237\u001b[0m \u001b[39mexcept\u001b[39;00m \u001b[39mTypeError\u001b[39;00m:\n\u001b[0;32m    238\u001b[0m     token \u001b[39m=\u001b[39m \u001b[39mself\u001b[39m\u001b[39m.\u001b[39mauth_manager\u001b[39m.\u001b[39mget_access_token()\n",
      "File \u001b[1;32mc:\\Users\\gabri\\AppData\\Local\\Programs\\Python\\Python311\\Lib\\site-packages\\spotipy\\oauth2.py:525\u001b[0m, in \u001b[0;36mSpotifyOAuth.get_access_token\u001b[1;34m(self, code, as_dict, check_cache)\u001b[0m\n\u001b[0;32m    516\u001b[0m     warnings\u001b[39m.\u001b[39mwarn(\n\u001b[0;32m    517\u001b[0m         \u001b[39m\"\u001b[39m\u001b[39mYou\u001b[39m\u001b[39m'\u001b[39m\u001b[39mre using \u001b[39m\u001b[39m'\u001b[39m\u001b[39mas_dict = True\u001b[39m\u001b[39m'\u001b[39m\u001b[39m.\u001b[39m\u001b[39m\"\u001b[39m\n\u001b[0;32m    518\u001b[0m         \u001b[39m\"\u001b[39m\u001b[39mget_access_token will return the token string directly in future \u001b[39m\u001b[39m\"\u001b[39m\n\u001b[1;32m   (...)\u001b[0m\n\u001b[0;32m    522\u001b[0m         stacklevel\u001b[39m=\u001b[39m\u001b[39m2\u001b[39m,\n\u001b[0;32m    523\u001b[0m     )\n\u001b[0;32m    524\u001b[0m \u001b[39mif\u001b[39;00m check_cache:\n\u001b[1;32m--> 525\u001b[0m     token_info \u001b[39m=\u001b[39m \u001b[39mself\u001b[39;49m\u001b[39m.\u001b[39;49mvalidate_token(\u001b[39mself\u001b[39;49m\u001b[39m.\u001b[39;49mcache_handler\u001b[39m.\u001b[39;49mget_cached_token())\n\u001b[0;32m    526\u001b[0m     \u001b[39mif\u001b[39;00m token_info \u001b[39mis\u001b[39;00m \u001b[39mnot\u001b[39;00m \u001b[39mNone\u001b[39;00m:\n\u001b[0;32m    527\u001b[0m         \u001b[39mif\u001b[39;00m \u001b[39mself\u001b[39m\u001b[39m.\u001b[39mis_token_expired(token_info):\n",
      "File \u001b[1;32mc:\\Users\\gabri\\AppData\\Local\\Programs\\Python\\Python311\\Lib\\site-packages\\spotipy\\oauth2.py:380\u001b[0m, in \u001b[0;36mSpotifyOAuth.validate_token\u001b[1;34m(self, token_info)\u001b[0m\n\u001b[0;32m    377\u001b[0m     \u001b[39mreturn\u001b[39;00m \u001b[39mNone\u001b[39;00m\n\u001b[0;32m    379\u001b[0m \u001b[39mif\u001b[39;00m \u001b[39mself\u001b[39m\u001b[39m.\u001b[39mis_token_expired(token_info):\n\u001b[1;32m--> 380\u001b[0m     token_info \u001b[39m=\u001b[39m \u001b[39mself\u001b[39;49m\u001b[39m.\u001b[39;49mrefresh_access_token(\n\u001b[0;32m    381\u001b[0m         token_info[\u001b[39m\"\u001b[39;49m\u001b[39mrefresh_token\u001b[39;49m\u001b[39m\"\u001b[39;49m]\n\u001b[0;32m    382\u001b[0m     )\n\u001b[0;32m    384\u001b[0m \u001b[39mreturn\u001b[39;00m token_info\n",
      "File \u001b[1;32mc:\\Users\\gabri\\AppData\\Local\\Programs\\Python\\Python311\\Lib\\site-packages\\spotipy\\oauth2.py:596\u001b[0m, in \u001b[0;36mSpotifyOAuth.refresh_access_token\u001b[1;34m(self, refresh_token)\u001b[0m\n\u001b[0;32m    594\u001b[0m     \u001b[39mreturn\u001b[39;00m token_info\n\u001b[0;32m    595\u001b[0m \u001b[39mexcept\u001b[39;00m requests\u001b[39m.\u001b[39mexceptions\u001b[39m.\u001b[39mHTTPError \u001b[39mas\u001b[39;00m http_error:\n\u001b[1;32m--> 596\u001b[0m     \u001b[39mself\u001b[39;49m\u001b[39m.\u001b[39;49m_handle_oauth_error(http_error)\n",
      "File \u001b[1;32mc:\\Users\\gabri\\AppData\\Local\\Programs\\Python\\Python311\\Lib\\site-packages\\spotipy\\oauth2.py:146\u001b[0m, in \u001b[0;36mSpotifyAuthBase._handle_oauth_error\u001b[1;34m(self, http_error)\u001b[0m\n\u001b[0;32m    143\u001b[0m     error \u001b[39m=\u001b[39m response\u001b[39m.\u001b[39mtext \u001b[39mor\u001b[39;00m \u001b[39mNone\u001b[39;00m\n\u001b[0;32m    144\u001b[0m     error_description \u001b[39m=\u001b[39m \u001b[39mNone\u001b[39;00m\n\u001b[1;32m--> 146\u001b[0m \u001b[39mraise\u001b[39;00m SpotifyOauthError(\n\u001b[0;32m    147\u001b[0m     \u001b[39m'\u001b[39m\u001b[39merror: \u001b[39m\u001b[39m{0}\u001b[39;00m\u001b[39m, error_description: \u001b[39m\u001b[39m{1}\u001b[39;00m\u001b[39m'\u001b[39m\u001b[39m.\u001b[39mformat(\n\u001b[0;32m    148\u001b[0m         error, error_description\n\u001b[0;32m    149\u001b[0m     ),\n\u001b[0;32m    150\u001b[0m     error\u001b[39m=\u001b[39merror,\n\u001b[0;32m    151\u001b[0m     error_description\u001b[39m=\u001b[39merror_description\n\u001b[0;32m    152\u001b[0m )\n",
      "\u001b[1;31mSpotifyOauthError\u001b[0m: error: invalid_client, error_description: Invalid client"
     ]
    }
   ],
   "source": [
    "import openai\n",
    "import spotipy\n",
    "from spotipy.oauth2 import SpotifyOAuth\n",
    "\n",
    "# First stage: Input\n",
    "prompt = input(\"What would you like your playlist to be about? \")\n",
    "num_songs = int(input(\"How many songs do you want on your playlist? \"))\n",
    "playlist_name = input(\"What do you want to name your playlist? \")\n",
    "\n",
    "scope = \"playlist-modify-public\"  # define scope before initializing SpotifyOAuth\n",
    "sp = spotipy.Spotify(auth_manager=SpotifyOAuth(client_id='', client_secret='', redirect_uri='', scope=scope))\n",
    "\n",
    "# Second stage: Song picking\n",
    "openai.api_key = \"\" # Replace with your OpenAI API key\n",
    "\n",
    "song_list = []\n",
    "while len(song_list) < num_songs:\n",
    "    response = openai.Completion.create(\n",
    "        engine=\"text-davinci-003\",\n",
    "        prompt=f\"Generate a song about {prompt}\",\n",
    "        max_tokens=60,\n",
    "        n=1,\n",
    "        stop=None,\n",
    "        temperature=0.7\n",
    "    )\n",
    "\n",
    "    song_title = response.choices[0].text.strip()\n",
    "    if song_title not in song_list:\n",
    "        song_list.append(song_title)\n",
    "\n",
    "# Third stage: Spotify integration\n",
    "\n",
    "# Check if playlist already exists\n",
    "existing_playlists = sp.current_user_playlists()\n",
    "playlist_exists = False\n",
    "playlist_id = None\n",
    "for playlist in existing_playlists[\"items\"]:\n",
    "    if playlist[\"name\"] == playlist_name:\n",
    "        playlist_exists = True\n",
    "        playlist_id = playlist[\"id\"]\n",
    "        break\n",
    "\n",
    "# Create a new playlist if it doesn't exist\n",
    "if not playlist_exists:\n",
    "    sp.user_playlist_create(user=sp.current_user()[\"id\"], name=playlist_name, public=True)\n",
    "    existing_playlists = sp.current_user_playlists()\n",
    "    for playlist in existing_playlists[\"items\"]:\n",
    "        if playlist[\"name\"] == playlist_name:\n",
    "            playlist_id = playlist[\"id\"]\n",
    "            break\n",
    "\n",
    "# Add songs to the playlist\n",
    "for song_title in song_list:\n",
    "    results = sp.search(q=song_title, limit=1, type=\"track\")\n",
    "    if results[\"tracks\"][\"items\"]:\n",
    "        track_id = results[\"tracks\"][\"items\"][0][\"id\"]\n",
    "        sp.playlist_add_items(playlist_id, [track_id])\n",
    "        print(f\"Added {song_title} to the playlist.\")\n",
    "    else:\n",
    "        print(f\"Could not find a song for {song_title}.\")\n"
   ]
  }
 ],
 "metadata": {
  "kernelspec": {
   "display_name": "Python 3",
   "language": "python",
   "name": "python3"
  },
  "language_info": {
   "codemirror_mode": {
    "name": "ipython",
    "version": 3
   },
   "file_extension": ".py",
   "mimetype": "text/x-python",
   "name": "python",
   "nbconvert_exporter": "python",
   "pygments_lexer": "ipython3",
   "version": "3.11.2"
  },
  "orig_nbformat": 4,
  "vscode": {
   "interpreter": {
    "hash": "ebe0b94344c0f4b7f5f23c6264dd64bfe6fbc608d3c775e4a8d0508d40af3b3e"
   }
  }
 },
 "nbformat": 4,
 "nbformat_minor": 2
}
